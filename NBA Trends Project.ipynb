{
 "cells": [
  {
   "cell_type": "code",
   "execution_count": 3,
   "id": "9cac1428-0d80-4df4-9aae-8b7343bdd4e9",
   "metadata": {},
   "outputs": [],
   "source": [
    "import numpy as np\n",
    "import pandas as pd\n",
    "from scipy.stats import pearsonr, chi2_contingency\n",
    "import matplotlib.pyplot as plt\n",
    "from matplotlib.pyplot import figure\n",
    "import seaborn as sns"
   ]
  },
  {
   "cell_type": "code",
   "execution_count": null,
   "id": "b9dca3d1-d0a6-47c9-b48b-60c831c356e8",
   "metadata": {},
   "outputs": [],
   "source": []
  },
  {
   "cell_type": "markdown",
   "id": "c0d292b5-17b2-482e-92fc-85a72303e537",
   "metadata": {},
   "source": [
    "#### to make the output look nicer:"
   ]
  },
  {
   "cell_type": "code",
   "execution_count": 5,
   "id": "5b632c20-dd20-447e-8e16-7540aaf26bc2",
   "metadata": {},
   "outputs": [],
   "source": [
    "np.set_printoptions(suppress=True, precision = 2)"
   ]
  },
  {
   "cell_type": "markdown",
   "id": "3aa4993c-fef3-4586-b405-5b47fef51e03",
   "metadata": {},
   "source": [
    "#### load the data:"
   ]
  },
  {
   "cell_type": "code",
   "execution_count": 183,
   "id": "c5943120-eb40-4ccd-8143-cd0a27caf8b1",
   "metadata": {},
   "outputs": [
    {
     "data": {
      "text/html": [
       "<div>\n",
       "<style scoped>\n",
       "    .dataframe tbody tr th:only-of-type {\n",
       "        vertical-align: middle;\n",
       "    }\n",
       "\n",
       "    .dataframe tbody tr th {\n",
       "        vertical-align: top;\n",
       "    }\n",
       "\n",
       "    .dataframe thead th {\n",
       "        text-align: right;\n",
       "    }\n",
       "</style>\n",
       "<table border=\"1\" class=\"dataframe\">\n",
       "  <thead>\n",
       "    <tr style=\"text-align: right;\">\n",
       "      <th></th>\n",
       "      <th>gameorder</th>\n",
       "      <th>game_id</th>\n",
       "      <th>lg_id</th>\n",
       "      <th>_iscopy</th>\n",
       "      <th>year_id</th>\n",
       "      <th>date_game</th>\n",
       "      <th>seasongame</th>\n",
       "      <th>is_playoffs</th>\n",
       "      <th>team_id</th>\n",
       "      <th>fran_id</th>\n",
       "      <th>...</th>\n",
       "      <th>win_equiv</th>\n",
       "      <th>opp_id</th>\n",
       "      <th>opp_fran</th>\n",
       "      <th>opp_pts</th>\n",
       "      <th>opp_elo_i</th>\n",
       "      <th>opp_elo_n</th>\n",
       "      <th>game_location</th>\n",
       "      <th>game_result</th>\n",
       "      <th>forecast</th>\n",
       "      <th>notes</th>\n",
       "    </tr>\n",
       "  </thead>\n",
       "  <tbody>\n",
       "    <tr>\n",
       "      <th>0</th>\n",
       "      <td>1</td>\n",
       "      <td>194611010TRH</td>\n",
       "      <td>NBA</td>\n",
       "      <td>0</td>\n",
       "      <td>1947</td>\n",
       "      <td>11/1/1946</td>\n",
       "      <td>1</td>\n",
       "      <td>0</td>\n",
       "      <td>TRH</td>\n",
       "      <td>Huskies</td>\n",
       "      <td>...</td>\n",
       "      <td>40.294830</td>\n",
       "      <td>NYK</td>\n",
       "      <td>Knicks</td>\n",
       "      <td>68</td>\n",
       "      <td>1300.0000</td>\n",
       "      <td>1306.7233</td>\n",
       "      <td>H</td>\n",
       "      <td>L</td>\n",
       "      <td>0.640065</td>\n",
       "      <td>NaN</td>\n",
       "    </tr>\n",
       "    <tr>\n",
       "      <th>1</th>\n",
       "      <td>1</td>\n",
       "      <td>194611010TRH</td>\n",
       "      <td>NBA</td>\n",
       "      <td>1</td>\n",
       "      <td>1947</td>\n",
       "      <td>11/1/1946</td>\n",
       "      <td>1</td>\n",
       "      <td>0</td>\n",
       "      <td>NYK</td>\n",
       "      <td>Knicks</td>\n",
       "      <td>...</td>\n",
       "      <td>41.705170</td>\n",
       "      <td>TRH</td>\n",
       "      <td>Huskies</td>\n",
       "      <td>66</td>\n",
       "      <td>1300.0000</td>\n",
       "      <td>1293.2767</td>\n",
       "      <td>A</td>\n",
       "      <td>W</td>\n",
       "      <td>0.359935</td>\n",
       "      <td>NaN</td>\n",
       "    </tr>\n",
       "    <tr>\n",
       "      <th>2</th>\n",
       "      <td>2</td>\n",
       "      <td>194611020CHS</td>\n",
       "      <td>NBA</td>\n",
       "      <td>0</td>\n",
       "      <td>1947</td>\n",
       "      <td>11/2/1946</td>\n",
       "      <td>1</td>\n",
       "      <td>0</td>\n",
       "      <td>CHS</td>\n",
       "      <td>Stags</td>\n",
       "      <td>...</td>\n",
       "      <td>42.012257</td>\n",
       "      <td>NYK</td>\n",
       "      <td>Knicks</td>\n",
       "      <td>47</td>\n",
       "      <td>1306.7233</td>\n",
       "      <td>1297.0712</td>\n",
       "      <td>H</td>\n",
       "      <td>W</td>\n",
       "      <td>0.631101</td>\n",
       "      <td>NaN</td>\n",
       "    </tr>\n",
       "    <tr>\n",
       "      <th>3</th>\n",
       "      <td>2</td>\n",
       "      <td>194611020CHS</td>\n",
       "      <td>NBA</td>\n",
       "      <td>1</td>\n",
       "      <td>1947</td>\n",
       "      <td>11/2/1946</td>\n",
       "      <td>2</td>\n",
       "      <td>0</td>\n",
       "      <td>NYK</td>\n",
       "      <td>Knicks</td>\n",
       "      <td>...</td>\n",
       "      <td>40.692783</td>\n",
       "      <td>CHS</td>\n",
       "      <td>Stags</td>\n",
       "      <td>63</td>\n",
       "      <td>1300.0000</td>\n",
       "      <td>1309.6521</td>\n",
       "      <td>A</td>\n",
       "      <td>L</td>\n",
       "      <td>0.368899</td>\n",
       "      <td>NaN</td>\n",
       "    </tr>\n",
       "    <tr>\n",
       "      <th>4</th>\n",
       "      <td>3</td>\n",
       "      <td>194611020DTF</td>\n",
       "      <td>NBA</td>\n",
       "      <td>0</td>\n",
       "      <td>1947</td>\n",
       "      <td>11/2/1946</td>\n",
       "      <td>1</td>\n",
       "      <td>0</td>\n",
       "      <td>DTF</td>\n",
       "      <td>Falcons</td>\n",
       "      <td>...</td>\n",
       "      <td>38.864048</td>\n",
       "      <td>WSC</td>\n",
       "      <td>Capitols</td>\n",
       "      <td>50</td>\n",
       "      <td>1300.0000</td>\n",
       "      <td>1320.3811</td>\n",
       "      <td>H</td>\n",
       "      <td>L</td>\n",
       "      <td>0.640065</td>\n",
       "      <td>NaN</td>\n",
       "    </tr>\n",
       "  </tbody>\n",
       "</table>\n",
       "<p>5 rows × 23 columns</p>\n",
       "</div>"
      ],
      "text/plain": [
       "   gameorder       game_id lg_id  _iscopy  year_id  date_game  seasongame  \\\n",
       "0          1  194611010TRH   NBA        0     1947  11/1/1946           1   \n",
       "1          1  194611010TRH   NBA        1     1947  11/1/1946           1   \n",
       "2          2  194611020CHS   NBA        0     1947  11/2/1946           1   \n",
       "3          2  194611020CHS   NBA        1     1947  11/2/1946           2   \n",
       "4          3  194611020DTF   NBA        0     1947  11/2/1946           1   \n",
       "\n",
       "   is_playoffs team_id  fran_id  ...  win_equiv  opp_id  opp_fran  opp_pts  \\\n",
       "0            0     TRH  Huskies  ...  40.294830     NYK    Knicks       68   \n",
       "1            0     NYK   Knicks  ...  41.705170     TRH   Huskies       66   \n",
       "2            0     CHS    Stags  ...  42.012257     NYK    Knicks       47   \n",
       "3            0     NYK   Knicks  ...  40.692783     CHS     Stags       63   \n",
       "4            0     DTF  Falcons  ...  38.864048     WSC  Capitols       50   \n",
       "\n",
       "   opp_elo_i  opp_elo_n  game_location  game_result  forecast notes  \n",
       "0  1300.0000  1306.7233              H            L  0.640065   NaN  \n",
       "1  1300.0000  1293.2767              A            W  0.359935   NaN  \n",
       "2  1306.7233  1297.0712              H            W  0.631101   NaN  \n",
       "3  1300.0000  1309.6521              A            L  0.368899   NaN  \n",
       "4  1300.0000  1320.3811              H            L  0.640065   NaN  \n",
       "\n",
       "[5 rows x 23 columns]"
      ]
     },
     "execution_count": 183,
     "metadata": {},
     "output_type": "execute_result"
    }
   ],
   "source": [
    "df = pd.read_csv('nba_games_data.csv')\n",
    "df.head()"
   ]
  },
  {
   "cell_type": "code",
   "execution_count": null,
   "id": "1631c684-b93b-467e-b382-bd069e2e771f",
   "metadata": {},
   "outputs": [],
   "source": []
  },
  {
   "cell_type": "markdown",
   "id": "fe80e1df-f2a4-4140-93a3-00d396cc10af",
   "metadata": {},
   "source": [
    "## Checking for empty columns"
   ]
  },
  {
   "cell_type": "code",
   "execution_count": 205,
   "id": "b9e03889-b356-477f-a45e-c0a938bca2d6",
   "metadata": {},
   "outputs": [
    {
     "data": {
      "text/plain": [
       "gameorder             0\n",
       "game_id               0\n",
       "lg_id                 0\n",
       "_iscopy               0\n",
       "year_id               0\n",
       "date_game             0\n",
       "seasongame            0\n",
       "is_playoffs           0\n",
       "team_id               0\n",
       "fran_id               0\n",
       "pts                   0\n",
       "elo_i                 0\n",
       "elo_n                 0\n",
       "win_equiv             0\n",
       "opp_id                0\n",
       "opp_fran              0\n",
       "opp_pts               0\n",
       "opp_elo_i             0\n",
       "opp_elo_n             0\n",
       "game_location         0\n",
       "game_result           0\n",
       "forecast              0\n",
       "notes            120890\n",
       "dtype: int64"
      ]
     },
     "execution_count": 205,
     "metadata": {},
     "output_type": "execute_result"
    }
   ],
   "source": [
    "df.isnull().sum()"
   ]
  },
  {
   "cell_type": "code",
   "execution_count": null,
   "id": "e2514ead-3053-4fb8-a1b9-2135fdda6ad8",
   "metadata": {},
   "outputs": [],
   "source": []
  },
  {
   "cell_type": "code",
   "execution_count": 206,
   "id": "5f99c3a1-510f-4265-ac51-bb362570d95a",
   "metadata": {},
   "outputs": [],
   "source": [
    "nba = df.copy()"
   ]
  },
  {
   "cell_type": "code",
   "execution_count": null,
   "id": "919a3880-e9fa-44e9-b64d-d4b864f23e57",
   "metadata": {},
   "outputs": [],
   "source": []
  },
  {
   "cell_type": "markdown",
   "id": "d170113e-f6d7-413d-a0e1-b49f726bf93a",
   "metadata": {},
   "source": [
    "# Data Analysis"
   ]
  },
  {
   "cell_type": "markdown",
   "id": "e054d406-39c7-4347-999f-e0b9092bccd4",
   "metadata": {},
   "source": [
    "#### data information:"
   ]
  },
  {
   "cell_type": "code",
   "execution_count": 207,
   "id": "a537c3b6-113a-4700-9b3d-86e1932323a0",
   "metadata": {},
   "outputs": [
    {
     "name": "stdout",
     "output_type": "stream",
     "text": [
      "<class 'pandas.core.frame.DataFrame'>\n",
      "RangeIndex: 126314 entries, 0 to 126313\n",
      "Data columns (total 23 columns):\n",
      " #   Column         Non-Null Count   Dtype  \n",
      "---  ------         --------------   -----  \n",
      " 0   gameorder      126314 non-null  int64  \n",
      " 1   game_id        126314 non-null  object \n",
      " 2   lg_id          126314 non-null  object \n",
      " 3   _iscopy        126314 non-null  int64  \n",
      " 4   year_id        126314 non-null  int64  \n",
      " 5   date_game      126314 non-null  object \n",
      " 6   seasongame     126314 non-null  int64  \n",
      " 7   is_playoffs    126314 non-null  int64  \n",
      " 8   team_id        126314 non-null  object \n",
      " 9   fran_id        126314 non-null  object \n",
      " 10  pts            126314 non-null  int64  \n",
      " 11  elo_i          126314 non-null  float64\n",
      " 12  elo_n          126314 non-null  float64\n",
      " 13  win_equiv      126314 non-null  float64\n",
      " 14  opp_id         126314 non-null  object \n",
      " 15  opp_fran       126314 non-null  object \n",
      " 16  opp_pts        126314 non-null  int64  \n",
      " 17  opp_elo_i      126314 non-null  float64\n",
      " 18  opp_elo_n      126314 non-null  float64\n",
      " 19  game_location  126314 non-null  object \n",
      " 20  game_result    126314 non-null  object \n",
      " 21  forecast       126314 non-null  float64\n",
      " 22  notes          5424 non-null    object \n",
      "dtypes: float64(6), int64(7), object(10)\n",
      "memory usage: 22.2+ MB\n"
     ]
    }
   ],
   "source": [
    "nba.info()"
   ]
  },
  {
   "cell_type": "code",
   "execution_count": null,
   "id": "fdc2b426-840f-46e4-b350-6151c6ac2be2",
   "metadata": {},
   "outputs": [],
   "source": []
  },
  {
   "cell_type": "markdown",
   "id": "f3879b34-c4a9-4107-842e-6576d13c6c09",
   "metadata": {},
   "source": [
    "## Calculate the points difference between all the teams:"
   ]
  },
  {
   "cell_type": "code",
   "execution_count": 208,
   "id": "66ee3351-bf80-4cc8-82f1-5154f62d101a",
   "metadata": {},
   "outputs": [
    {
     "data": {
      "text/html": [
       "<div>\n",
       "<style scoped>\n",
       "    .dataframe tbody tr th:only-of-type {\n",
       "        vertical-align: middle;\n",
       "    }\n",
       "\n",
       "    .dataframe tbody tr th {\n",
       "        vertical-align: top;\n",
       "    }\n",
       "\n",
       "    .dataframe thead th {\n",
       "        text-align: right;\n",
       "    }\n",
       "</style>\n",
       "<table border=\"1\" class=\"dataframe\">\n",
       "  <thead>\n",
       "    <tr style=\"text-align: right;\">\n",
       "      <th></th>\n",
       "      <th>gameorder</th>\n",
       "      <th>game_id</th>\n",
       "      <th>lg_id</th>\n",
       "      <th>_iscopy</th>\n",
       "      <th>year_id</th>\n",
       "      <th>date_game</th>\n",
       "      <th>seasongame</th>\n",
       "      <th>is_playoffs</th>\n",
       "      <th>team_id</th>\n",
       "      <th>fran_id</th>\n",
       "      <th>...</th>\n",
       "      <th>opp_id</th>\n",
       "      <th>opp_fran</th>\n",
       "      <th>opp_pts</th>\n",
       "      <th>opp_elo_i</th>\n",
       "      <th>opp_elo_n</th>\n",
       "      <th>game_location</th>\n",
       "      <th>game_result</th>\n",
       "      <th>forecast</th>\n",
       "      <th>notes</th>\n",
       "      <th>point_diff</th>\n",
       "    </tr>\n",
       "  </thead>\n",
       "  <tbody>\n",
       "    <tr>\n",
       "      <th>0</th>\n",
       "      <td>1</td>\n",
       "      <td>194611010TRH</td>\n",
       "      <td>NBA</td>\n",
       "      <td>0</td>\n",
       "      <td>1947</td>\n",
       "      <td>11/1/1946</td>\n",
       "      <td>1</td>\n",
       "      <td>0</td>\n",
       "      <td>TRH</td>\n",
       "      <td>Huskies</td>\n",
       "      <td>...</td>\n",
       "      <td>NYK</td>\n",
       "      <td>Knicks</td>\n",
       "      <td>68</td>\n",
       "      <td>1300.0000</td>\n",
       "      <td>1306.7233</td>\n",
       "      <td>H</td>\n",
       "      <td>L</td>\n",
       "      <td>0.640065</td>\n",
       "      <td>NaN</td>\n",
       "      <td>-2</td>\n",
       "    </tr>\n",
       "    <tr>\n",
       "      <th>1</th>\n",
       "      <td>1</td>\n",
       "      <td>194611010TRH</td>\n",
       "      <td>NBA</td>\n",
       "      <td>1</td>\n",
       "      <td>1947</td>\n",
       "      <td>11/1/1946</td>\n",
       "      <td>1</td>\n",
       "      <td>0</td>\n",
       "      <td>NYK</td>\n",
       "      <td>Knicks</td>\n",
       "      <td>...</td>\n",
       "      <td>TRH</td>\n",
       "      <td>Huskies</td>\n",
       "      <td>66</td>\n",
       "      <td>1300.0000</td>\n",
       "      <td>1293.2767</td>\n",
       "      <td>A</td>\n",
       "      <td>W</td>\n",
       "      <td>0.359935</td>\n",
       "      <td>NaN</td>\n",
       "      <td>2</td>\n",
       "    </tr>\n",
       "    <tr>\n",
       "      <th>2</th>\n",
       "      <td>2</td>\n",
       "      <td>194611020CHS</td>\n",
       "      <td>NBA</td>\n",
       "      <td>0</td>\n",
       "      <td>1947</td>\n",
       "      <td>11/2/1946</td>\n",
       "      <td>1</td>\n",
       "      <td>0</td>\n",
       "      <td>CHS</td>\n",
       "      <td>Stags</td>\n",
       "      <td>...</td>\n",
       "      <td>NYK</td>\n",
       "      <td>Knicks</td>\n",
       "      <td>47</td>\n",
       "      <td>1306.7233</td>\n",
       "      <td>1297.0712</td>\n",
       "      <td>H</td>\n",
       "      <td>W</td>\n",
       "      <td>0.631101</td>\n",
       "      <td>NaN</td>\n",
       "      <td>16</td>\n",
       "    </tr>\n",
       "    <tr>\n",
       "      <th>3</th>\n",
       "      <td>2</td>\n",
       "      <td>194611020CHS</td>\n",
       "      <td>NBA</td>\n",
       "      <td>1</td>\n",
       "      <td>1947</td>\n",
       "      <td>11/2/1946</td>\n",
       "      <td>2</td>\n",
       "      <td>0</td>\n",
       "      <td>NYK</td>\n",
       "      <td>Knicks</td>\n",
       "      <td>...</td>\n",
       "      <td>CHS</td>\n",
       "      <td>Stags</td>\n",
       "      <td>63</td>\n",
       "      <td>1300.0000</td>\n",
       "      <td>1309.6521</td>\n",
       "      <td>A</td>\n",
       "      <td>L</td>\n",
       "      <td>0.368899</td>\n",
       "      <td>NaN</td>\n",
       "      <td>-16</td>\n",
       "    </tr>\n",
       "    <tr>\n",
       "      <th>4</th>\n",
       "      <td>3</td>\n",
       "      <td>194611020DTF</td>\n",
       "      <td>NBA</td>\n",
       "      <td>0</td>\n",
       "      <td>1947</td>\n",
       "      <td>11/2/1946</td>\n",
       "      <td>1</td>\n",
       "      <td>0</td>\n",
       "      <td>DTF</td>\n",
       "      <td>Falcons</td>\n",
       "      <td>...</td>\n",
       "      <td>WSC</td>\n",
       "      <td>Capitols</td>\n",
       "      <td>50</td>\n",
       "      <td>1300.0000</td>\n",
       "      <td>1320.3811</td>\n",
       "      <td>H</td>\n",
       "      <td>L</td>\n",
       "      <td>0.640065</td>\n",
       "      <td>NaN</td>\n",
       "      <td>-17</td>\n",
       "    </tr>\n",
       "  </tbody>\n",
       "</table>\n",
       "<p>5 rows × 24 columns</p>\n",
       "</div>"
      ],
      "text/plain": [
       "   gameorder       game_id lg_id  _iscopy  year_id  date_game  seasongame  \\\n",
       "0          1  194611010TRH   NBA        0     1947  11/1/1946           1   \n",
       "1          1  194611010TRH   NBA        1     1947  11/1/1946           1   \n",
       "2          2  194611020CHS   NBA        0     1947  11/2/1946           1   \n",
       "3          2  194611020CHS   NBA        1     1947  11/2/1946           2   \n",
       "4          3  194611020DTF   NBA        0     1947  11/2/1946           1   \n",
       "\n",
       "   is_playoffs team_id  fran_id  ...  opp_id  opp_fran  opp_pts  opp_elo_i  \\\n",
       "0            0     TRH  Huskies  ...     NYK    Knicks       68  1300.0000   \n",
       "1            0     NYK   Knicks  ...     TRH   Huskies       66  1300.0000   \n",
       "2            0     CHS    Stags  ...     NYK    Knicks       47  1306.7233   \n",
       "3            0     NYK   Knicks  ...     CHS     Stags       63  1300.0000   \n",
       "4            0     DTF  Falcons  ...     WSC  Capitols       50  1300.0000   \n",
       "\n",
       "   opp_elo_n game_location  game_result  forecast  notes point_diff  \n",
       "0  1306.7233             H            L  0.640065    NaN         -2  \n",
       "1  1293.2767             A            W  0.359935    NaN          2  \n",
       "2  1297.0712             H            W  0.631101    NaN         16  \n",
       "3  1309.6521             A            L  0.368899    NaN        -16  \n",
       "4  1320.3811             H            L  0.640065    NaN        -17  \n",
       "\n",
       "[5 rows x 24 columns]"
      ]
     },
     "execution_count": 208,
     "metadata": {},
     "output_type": "execute_result"
    }
   ],
   "source": [
    "nba['point_diff'] = nba['pts'] - nba['opp_pts']\n",
    "nba.head()"
   ]
  },
  {
   "cell_type": "code",
   "execution_count": null,
   "id": "5e5af766-ebc7-432c-9acc-010c80851751",
   "metadata": {},
   "outputs": [],
   "source": []
  },
  {
   "cell_type": "markdown",
   "id": "5e709224-5c25-4c6c-bcda-3c00944d0f2c",
   "metadata": {},
   "source": [
    "# Question 1:  Create two series from the 'pts' column of the nba_2010 and nba_2014 DF to represent the points scored per game by the Knicks Team and the Nets Team?"
   ]
  },
  {
   "cell_type": "code",
   "execution_count": null,
   "id": "6b8561cf-7098-406a-b471-4f09d22fc3b5",
   "metadata": {},
   "outputs": [],
   "source": []
  },
  {
   "cell_type": "markdown",
   "id": "eea7bb1e-f233-42a8-b967-1447feb23e58",
   "metadata": {},
   "source": [
    "### Filter data to include only the 2010 and 2014 seasons"
   ]
  },
  {
   "cell_type": "code",
   "execution_count": 229,
   "id": "2d5e66e3-e437-47d6-aedc-6e76b6102f34",
   "metadata": {},
   "outputs": [],
   "source": [
    "# 2010\n",
    "nba_2010 = nba[nba.year_id == 2010]\n",
    "# 2014\n",
    "nba_2014 = nba[nba.year_id == 2014]"
   ]
  },
  {
   "cell_type": "markdown",
   "id": "c97a3266-8e86-4434-bf53-7922b964dc48",
   "metadata": {},
   "source": [
    "### Series for 2010:"
   ]
  },
  {
   "cell_type": "code",
   "execution_count": 227,
   "id": "dbc3edb5-e195-4965-b604-595ec9457323",
   "metadata": {},
   "outputs": [],
   "source": [
    "knicks_pts = nba_2010[nba_2010['fran_id'] == 'Knicks']['pts']\n",
    "nets_pts = nba_2010[nba_2010['fran_id'] == 'Nets']['pts']"
   ]
  },
  {
   "cell_type": "code",
   "execution_count": null,
   "id": "b199eb85-6972-4225-981c-2e999dc55809",
   "metadata": {},
   "outputs": [],
   "source": []
  },
  {
   "cell_type": "markdown",
   "id": "9479cd5a-cee3-478d-8390-e5410ffb6ab2",
   "metadata": {},
   "source": [
    "# Question 2: Calculate the difference between the average points (mean) scored by the Knicks and the Nets in the 2010 season. Based on the difference, do you think the two teams and points ('pts') are associated?"
   ]
  },
  {
   "cell_type": "code",
   "execution_count": 228,
   "id": "9a469018-934d-41aa-9fd3-9cbf786276bf",
   "metadata": {},
   "outputs": [
    {
     "data": {
      "text/plain": [
       "9.731707317073173"
      ]
     },
     "execution_count": 228,
     "metadata": {},
     "output_type": "execute_result"
    }
   ],
   "source": [
    "diff_mean_2020 = knicks_pts.mean() - nets_pts.mean()\n",
    "diff_mean_2020"
   ]
  },
  {
   "cell_type": "code",
   "execution_count": 226,
   "id": "611cf5ed-2382-42d5-93b1-95ba0132fd3d",
   "metadata": {},
   "outputs": [],
   "source": [
    "# Based on the above finding:\n",
    "# Difference in Points: The calculated differences of approximately 9.73 indicates that one team \\\n",
    "# scored, on average about 9.73 points more than the other team in 2010."
   ]
  },
  {
   "cell_type": "code",
   "execution_count": null,
   "id": "93745bdc-39c4-4cdc-8a6d-1f7320662a49",
   "metadata": {},
   "outputs": [],
   "source": []
  },
  {
   "cell_type": "markdown",
   "id": "ba44331a-198a-4861-b7c4-a787ef557ec8",
   "metadata": {},
   "source": [
    "### Questions 3:  Rather than comparing means, it’s useful look at the full distribution of values to understand whether a difference in means is meaningful. Create a set of `OVERLAPPING HISTOGRAM` that can be used to compare the points scored for the Knicks compared to the Nets. Use the series you created in the previous step (1) and the code below to create the plot. Do the distributions appear to be the same?"
   ]
  },
  {
   "cell_type": "code",
   "execution_count": 218,
   "id": "c0bde581-2933-4374-b877-fe8402663a24",
   "metadata": {},
   "outputs": [
    {
     "data": {
      "image/png": "[encoded data removed]",
      "text/plain": [
       "<Figure size 640x640 with 1 Axes>"
      ]
     },
     "metadata": {},
     "output_type": "display_data"
    }
   ],
   "source": [
    "figure(figsize = (8, 8), dpi=80)\n",
    "plt.hist(knicks_pts, color = '#f77f00', edgecolor = '#f77f00', alpha = 0.8, density = True, label = 'Knicks')\n",
    "plt.hist(nets_pts, color = '#1e6091', edgecolor = 'black', alpha = 0.8, density = True, label = 'Nets')\n",
    "plt.title('Knicks Vs Nets (Compare Point Score), 2010', fontsize = 16)\n",
    "plt.xlabel('Points through Years')\n",
    "plt.ylabel('Times')\n",
    "plt.legend()\n",
    "plt.show()"
   ]
  },
  {
   "cell_type": "markdown",
   "id": "2290a65d-7080-4f90-a436-a7f75f9e7e6e",
   "metadata": {},
   "source": [
    "#### Explanation:"
   ]
  },
  {
   "cell_type": "markdown",
   "id": "1988aa24-0684-48b8-bdf1-29888662aaf8",
   "metadata": {},
   "source": [
    "#### 1) Distribution of Scores: The histogram shows the frequency of points scored by both teams across different scoring ranges. The Knicks (in orange) and Nets (in blue) have overlapping distributions, but there are notable differences in their scoring patterns.\n",
    "#### 2) Peak Scores: The Knicks have a peak around the 90-100 point range, indicating that they scored in this range more frequently. The Nets show a broader distribution with a peak around the 100-110 point range, suggesting they had more games scoring in this higher range.\n",
    "#### 3) Frequency of Scores: The Nets have a higher frequency of games scoring between 100 and 110 points, indicating a more consistent scoring performance. The Knicks have a wider spread of scores, with a significant number of games scoring below 90 points, indicating variability and inconsistency in their scoring.\n",
    "#### 4) Lower Scores: The Knicks have a noticeable frequency of games scoring below 90 points, which is less common for the Nets. This suggests that the Knicks struggled more in certain games.\n",
    "#### 5) Overall Performance: The histogram suggests that the Nets had a more consistent and higher scoring performance in 2010 compared to the Knicks, who had more variability and lower scoring games.\n",
    "#### Conclusion: Overall, the histogram provides a visual comparison of the scoring performance of the Knicks and Nets in 2010. It highlights the differences in their scoring consistency and effectiveness, with the Nets generally performing better in terms of points scored"
   ]
  },
  {
   "cell_type": "code",
   "execution_count": null,
   "id": "8283bc24-b6ad-452a-95ea-e4e08d378e56",
   "metadata": {},
   "outputs": [],
   "source": []
  },
  {
   "cell_type": "code",
   "execution_count": null,
   "id": "f1e0dc24-ba68-4781-9ba5-f4da1f26b0c1",
   "metadata": {},
   "outputs": [],
   "source": []
  },
  {
   "cell_type": "code",
   "execution_count": null,
   "id": "d32eb2f6-3d64-467f-b19d-843de274c774",
   "metadata": {},
   "outputs": [],
   "source": []
  },
  {
   "cell_type": "markdown",
   "id": "a00b2ec7-e9fc-4edd-90e7-96bd92d84cad",
   "metadata": {},
   "source": [
    "### Quesion 4:  Comparing the 2010 games to 2014. Replicate the steps from Question 2 and 3 using `nba_2014`. First, calculate the mean difference between the two teams (Knick & Nets) points scored. Save and print the value as `diff_means_2014`. Did the difference in points get larger or smaller in 2014? Then, plot the `OVERLAPPING HISTOGRAM`. Does the mean difference you calculated make sense?"
   ]
  },
  {
   "cell_type": "code",
   "execution_count": 230,
   "id": "05346883-7bd0-4340-8440-8e9522b7d6f5",
   "metadata": {},
   "outputs": [],
   "source": [
    "knicks_pts_14 = nba_2014[nba_2014['fran_id'] == 'Knicks']['pts']\n",
    "nets_pts_14 = nba_2014[nba_2014['fran_id'] == 'Nets']['pts']"
   ]
  },
  {
   "cell_type": "code",
   "execution_count": 231,
   "id": "30c4e67f-f972-4ab1-a434-2542e99d638c",
   "metadata": {},
   "outputs": [
    {
     "data": {
      "text/plain": [
       "0.44706798131809933"
      ]
     },
     "execution_count": 231,
     "metadata": {},
     "output_type": "execute_result"
    }
   ],
   "source": [
    "diff_mean_2014 = knicks_pts_14.mean() - nets_pts_14.mean()\n",
    "diff_mean_2014"
   ]
  },
  {
   "cell_type": "markdown",
   "id": "0699b5a0-a122-488a-b66a-1e9c0b93a3d0",
   "metadata": {},
   "source": [
    "#### Visualization:"
   ]
  },
  {
   "cell_type": "code",
   "execution_count": 232,
   "id": "548b355f-b180-4337-ad2e-eec45bfa8dab",
   "metadata": {},
   "outputs": [
    {
     "data": {
      "image/png": "[encoded data removed]",
      "text/plain": [
       "<Figure size 640x640 with 1 Axes>"
      ]
     },
     "metadata": {},
     "output_type": "display_data"
    }
   ],
   "source": [
    "figure(figsize = (8, 8), dpi=80)\n",
    "plt.hist(knicks_pts_14, color = '#f77f00', edgecolor = '#f77f00', alpha = 0.8, density = True, label = 'Knicks')\n",
    "plt.hist(nets_pts_14, color = '#1e6091', edgecolor = 'black', alpha = 0.8, density = True, label = 'Nets')\n",
    "plt.title('Knicks Vs Nets (Compare Point Score), 2014', fontsize = 16)\n",
    "plt.xlabel('Points through Years')\n",
    "plt.ylabel('Times')\n",
    "plt.legend()\n",
    "plt.show()"
   ]
  },
  {
   "cell_type": "markdown",
   "id": "161fe141-be1e-4389-853e-f6955b5c6cd3",
   "metadata": {},
   "source": [
    "#### Explanation: Overlapping Histogram"
   ]
  },
  {
   "cell_type": "markdown",
   "id": "e1d8206e-5e57-472b-aff9-a3abf37b90aa",
   "metadata": {},
   "source": [
    "#### 1) Distribution of Scores: The histogram shows the frequency of points scored by both teams across different scoring ranges. The Knicks (in orange) and Nets (in blue) have overlapping distributions.\n",
    "#### 2) Peak Scores: The Nets have a higher peak around the 100-110 point range, indicating that they scored in this range more frequently than the Knicks. The Knicks show a peak around the 90-100 point range, suggesting that they scored less frequently in the higher ranges compared to the Nets.\n",
    "#### 3) Frequency of Scores: The Nets have a more concentrated distribution, with a significant number of games scoring between 100 and 110 points. The Knicks have a broader distribution, with scores spread across a wider range, indicating more variability in their scoring.\n",
    "#### 4) Lower Scores: The Knicks have a noticeable frequency of games scoring below 90 points, which is less common for the Nets. This could indicate that the Knicks struggled more in certain games.\n",
    "#### 5) Overall Performance: The histogram suggests that the Nets had a more consistent and higher scoring performance in 2014 compared to the Knicks, who had more variability and lower scoring games.\n",
    "#### Conclusion: the histogram provides a visual differences in their scoring consistency and effectiveness, with the Nets generally performing better in terms of points scored."
   ]
  },
  {
   "cell_type": "code",
   "execution_count": null,
   "id": "a437af98-62e3-4af6-9505-70e2db42025a",
   "metadata": {},
   "outputs": [],
   "source": []
  },
  {
   "cell_type": "code",
   "execution_count": null,
   "id": "4b424352-ae6c-4d50-9a68-8d58baa79553",
   "metadata": {},
   "outputs": [],
   "source": []
  },
  {
   "cell_type": "code",
   "execution_count": null,
   "id": "0584c454-b0f3-4bbe-b26b-79c2709d2cc4",
   "metadata": {},
   "outputs": [],
   "source": []
  },
  {
   "cell_type": "markdown",
   "id": "5f271046-ce80-448a-86d9-be2126f014da",
   "metadata": {},
   "source": [
    "## Question 5: Using `nba_2010`, generate `side-by-side boxplots` with points scored (pts) on the y-axis and team (fran_id) on the x-axis. Is there any overlap between the boxes? Does this chart suggest that fran_id and pts are associated? Which pairs of teams, if any, earn different average scores per game?"
   ]
  },
  {
   "cell_type": "code",
   "execution_count": 252,
   "id": "a95c5166-66ae-4928-a84e-bae94e9693e4",
   "metadata": {},
   "outputs": [
    {
     "data": {
      "image/png": "[encoded data removed]",
      "text/plain": [
       "<Figure size 1200x1200 with 1 Axes>"
      ]
     },
     "metadata": {},
     "output_type": "display_data"
    }
   ],
   "source": [
    "figure(figsize = (12, 12), dpi=100)\n",
    "sns.boxplot(y = nba_2010.pts, x = nba_2010.fran_id)\n",
    "sns.set_style('darkgrid')\n",
    "sns.set_palette('Set2')\n",
    "plt.title('Points by Year, 2010')\n",
    "plt.xlabel('Teams')\n",
    "plt.ylabel('Points')\n",
    "plt.xticks(rotation = 90)\n",
    "\n",
    "plt.show()"
   ]
  },
  {
   "cell_type": "markdown",
   "id": "e5f0ff99-a60f-4a03-aff8-6cf0eed813e5",
   "metadata": {},
   "source": [
    "#### Explanation:"
   ]
  },
  {
   "cell_type": "markdown",
   "id": "c6874980-c561-4ca7-abfe-f959ba8c42a4",
   "metadata": {},
   "source": [
    "#### The boxplot you provided offers several insights into the distribution of points scored by different NBA teams over the years. Here’s what it indicates:\n",
    "#### 1) Central Tendency: The line inside each box represents the median points scored by each team. This gives a quick visual indication of the typical performance of each team.\n",
    "#### 2) Interquartile Range (IQR): The boxes represent the interquartile range (IQR), which contains the middle 50% of the data. A wider box indicates greater variability in points scored, while a narrower box suggests more consistent scoring.\n",
    "#### 3) Outliers: Points outside the whiskers are outliers, indicating exceptional performances. For example, a team like the Golden State Warriors may have several high-scoring games that appear as outliers.\n",
    "#### 5) Comparative Analysis: By comparing the boxes across teams, you can identify which teams score higher on average. Teams like the San Antonio Spurs may show a higher median, indicating stronger overall performance.\n",
    "#### 6) Trends Over Time: If the boxplot is organized by year, it can reveal trends in scoring. For instance, if a team's box shifts upward over the years, it suggests improvement in scoring capabilities.\n",
    "#### 7) Team Performance: Teams with consistently high median points and fewer outliers may indicate stronger overall performance, while teams with lower medians and more outliers may suggest inconsistency or weaker performance.\n",
    "#### 8) Conclusion: the boxplot provides a comprehensive view of scoring patterns across teams, highlighting both central tendencies and variability."
   ]
  },
  {
   "cell_type": "code",
   "execution_count": null,
   "id": "29e1b2ba-ae67-4410-9b05-cfb528fc7e16",
   "metadata": {},
   "outputs": [],
   "source": []
  },
  {
   "cell_type": "code",
   "execution_count": null,
   "id": "2932173c-8749-4ceb-a985-2e7ccb38b7f1",
   "metadata": {},
   "outputs": [],
   "source": []
  },
  {
   "cell_type": "code",
   "execution_count": null,
   "id": "694ab3fc-a989-46a3-a19e-57dde40d4d39",
   "metadata": {},
   "outputs": [],
   "source": []
  },
  {
   "cell_type": "markdown",
   "id": "cd22922d-d89c-4e1a-924f-7d14535b91a2",
   "metadata": {},
   "source": [
    "## Question 6: Find out the frequency of more win, loss and its proportion using cross tablet or contingency table (2010)"
   ]
  },
  {
   "cell_type": "markdown",
   "id": "64439efc-3ac0-4c3c-bf69-d0e55a17e833",
   "metadata": {},
   "source": [
    "#### Frequency:"
   ]
  },
  {
   "cell_type": "code",
   "execution_count": 234,
   "id": "75c0956c-0c3c-43e7-aa56-8b3a8584e8fd",
   "metadata": {
    "scrolled": true
   },
   "outputs": [
    {
     "name": "stdout",
     "output_type": "stream",
     "text": [
      "Frequency:\n"
     ]
    },
    {
     "data": {
      "text/html": [
       "<div>\n",
       "<style scoped>\n",
       "    .dataframe tbody tr th:only-of-type {\n",
       "        vertical-align: middle;\n",
       "    }\n",
       "\n",
       "    .dataframe tbody tr th {\n",
       "        vertical-align: top;\n",
       "    }\n",
       "\n",
       "    .dataframe thead th {\n",
       "        text-align: right;\n",
       "    }\n",
       "</style>\n",
       "<table border=\"1\" class=\"dataframe\">\n",
       "  <thead>\n",
       "    <tr style=\"text-align: right;\">\n",
       "      <th>game_location</th>\n",
       "      <th>A</th>\n",
       "      <th>H</th>\n",
       "    </tr>\n",
       "    <tr>\n",
       "      <th>game_result</th>\n",
       "      <th></th>\n",
       "      <th></th>\n",
       "    </tr>\n",
       "  </thead>\n",
       "  <tbody>\n",
       "    <tr>\n",
       "      <th>L</th>\n",
       "      <td>786</td>\n",
       "      <td>526</td>\n",
       "    </tr>\n",
       "    <tr>\n",
       "      <th>W</th>\n",
       "      <td>526</td>\n",
       "      <td>786</td>\n",
       "    </tr>\n",
       "  </tbody>\n",
       "</table>\n",
       "</div>"
      ],
      "text/plain": [
       "game_location    A    H\n",
       "game_result            \n",
       "L              786  526\n",
       "W              526  786"
      ]
     },
     "execution_count": 234,
     "metadata": {},
     "output_type": "execute_result"
    }
   ],
   "source": [
    "print('Frequency:')\n",
    "location_result_freq = pd.crosstab(nba_2010.game_result, nba_2010.game_location)\n",
    "location_result_freq"
   ]
  },
  {
   "cell_type": "markdown",
   "id": "7e769b41-729a-4fd0-b3b8-c7b6c930feed",
   "metadata": {},
   "source": [
    "#### Proportion:"
   ]
  },
  {
   "cell_type": "code",
   "execution_count": 235,
   "id": "a170cd55-7e6d-49e0-b1da-3a1d6f8f6603",
   "metadata": {},
   "outputs": [
    {
     "name": "stdout",
     "output_type": "stream",
     "text": [
      "Proportion:\n"
     ]
    },
    {
     "data": {
      "text/html": [
       "<div>\n",
       "<style scoped>\n",
       "    .dataframe tbody tr th:only-of-type {\n",
       "        vertical-align: middle;\n",
       "    }\n",
       "\n",
       "    .dataframe tbody tr th {\n",
       "        vertical-align: top;\n",
       "    }\n",
       "\n",
       "    .dataframe thead th {\n",
       "        text-align: right;\n",
       "    }\n",
       "</style>\n",
       "<table border=\"1\" class=\"dataframe\">\n",
       "  <thead>\n",
       "    <tr style=\"text-align: right;\">\n",
       "      <th>game_location</th>\n",
       "      <th>A</th>\n",
       "      <th>H</th>\n",
       "    </tr>\n",
       "    <tr>\n",
       "      <th>game_result</th>\n",
       "      <th></th>\n",
       "      <th></th>\n",
       "    </tr>\n",
       "  </thead>\n",
       "  <tbody>\n",
       "    <tr>\n",
       "      <th>L</th>\n",
       "      <td>0.299543</td>\n",
       "      <td>0.200457</td>\n",
       "    </tr>\n",
       "    <tr>\n",
       "      <th>W</th>\n",
       "      <td>0.200457</td>\n",
       "      <td>0.299543</td>\n",
       "    </tr>\n",
       "  </tbody>\n",
       "</table>\n",
       "</div>"
      ],
      "text/plain": [
       "game_location         A         H\n",
       "game_result                      \n",
       "L              0.299543  0.200457\n",
       "W              0.200457  0.299543"
      ]
     },
     "execution_count": 235,
     "metadata": {},
     "output_type": "execute_result"
    }
   ],
   "source": [
    "print('Proportion:')\n",
    "location_result_proportion = location_result_freq/len(nba_2010)\n",
    "location_result_proportion"
   ]
  },
  {
   "cell_type": "code",
   "execution_count": null,
   "id": "3d88a88e-50f1-41f6-aeee-ba454bf1cfb0",
   "metadata": {},
   "outputs": [],
   "source": []
  },
  {
   "cell_type": "code",
   "execution_count": null,
   "id": "3c6c84df-aa4b-415b-a897-ba9349560c0b",
   "metadata": {},
   "outputs": [],
   "source": []
  },
  {
   "cell_type": "markdown",
   "id": "b5187dfc-24ee-4c9f-89bb-c1f31b6e4199",
   "metadata": {},
   "source": [
    "### Question 7: Do `Game Location` and `Game Results` have an impact on each other? Calculate this using an `expected contingency table` and `Chi-square statistics`."
   ]
  },
  {
   "cell_type": "code",
   "execution_count": 241,
   "id": "096707f9-9e46-4b1d-b09e-56925b7f7a1e",
   "metadata": {},
   "outputs": [
    {
     "name": "stdout",
     "output_type": "stream",
     "text": [
      "[[0.25 0.25]\n",
      " [0.25 0.25]]\n",
      "0.0\n"
     ]
    }
   ],
   "source": [
    "chi2, pval, dof, expected = chi2_contingency(location_result_proportion)\n",
    "print(expected)\n",
    "print(chi2)"
   ]
  },
  {
   "cell_type": "markdown",
   "id": "02e0bd2a-8790-425a-90d0-59838096e5c2",
   "metadata": {},
   "source": [
    "### Explaination for above:\n",
    "### The Chi-square statistics as indicated above 0.0 indicate that there is no difference between the `observed` and `expected frequencies`, indicating no association between `game location` and `ganee results`."
   ]
  },
  {
   "cell_type": "code",
   "execution_count": null,
   "id": "7687e911-9587-4a2b-bc68-fd907d57ee4b",
   "metadata": {},
   "outputs": [],
   "source": []
  },
  {
   "cell_type": "code",
   "execution_count": null,
   "id": "6df1b7db-1e59-480b-8673-dee1f3280955",
   "metadata": {},
   "outputs": [],
   "source": []
  },
  {
   "cell_type": "markdown",
   "id": "fad2493b-998c-47b1-9b37-bfeafa12313d",
   "metadata": {},
   "source": [
    "## Question 8: Find out if NBA teams with a higher probability of winning also tend to win games by more points using the prediction which is saved as `forecast` and `point_diff` columns. By calculating the `covariance` between `forecast` and `point_diff` in the dataset (column). What is the covariance between these two variables?"
   ]
  },
  {
   "cell_type": "code",
   "execution_count": 242,
   "id": "9c17c779-40fe-4d9e-9d5c-2676aec5ca96",
   "metadata": {},
   "outputs": [
    {
     "data": {
      "text/plain": [
       "array([[  0.05,   1.4 ],\n",
       "       [  1.4 , 184.17]])"
      ]
     },
     "execution_count": 242,
     "metadata": {},
     "output_type": "execute_result"
    }
   ],
   "source": [
    "cov_forecast_ptsdiff = np.cov(nba_2010.forecast, nba_2010.point_diff)\n",
    "cov_forecast_ptsdiff"
   ]
  },
  {
   "cell_type": "code",
   "execution_count": null,
   "id": "02944a8b-a504-4468-8ed5-407b1bd5cf82",
   "metadata": {},
   "outputs": [],
   "source": []
  },
  {
   "cell_type": "code",
   "execution_count": null,
   "id": "c8b64a73-e281-42fd-af3b-789ee0dd4c13",
   "metadata": {},
   "outputs": [],
   "source": []
  },
  {
   "cell_type": "markdown",
   "id": "41fa4f94-32e7-46df-9e7d-fe8a991a1a73",
   "metadata": {},
   "source": [
    "## Question 9: Does this value suggest an association between the two variables? calculate the correlation between `forecast` and `point_diff`."
   ]
  },
  {
   "cell_type": "code",
   "execution_count": 244,
   "id": "05e18985-eda9-4d2f-b824-b4d2b0378fc9",
   "metadata": {},
   "outputs": [
    {
     "data": {
      "text/plain": [
       "0.45800446272798073"
      ]
     },
     "execution_count": 244,
     "metadata": {},
     "output_type": "execute_result"
    }
   ],
   "source": [
    "correlation_forecast_ptsdiff, p = pearsonr(nba_2010['forecast'], nba_2010['point_diff'])\n",
    "correlation_forecast_ptsdiff"
   ]
  },
  {
   "cell_type": "markdown",
   "id": "ef0bc091-b19e-43ca-adbb-95f27eac56c2",
   "metadata": {},
   "source": [
    "#### Explanation from above answer:\n",
    "#### Correlation of 0.45 suggests that there is a meaningful relationship between the two variables (`forecasting` and `point_diff`)"
   ]
  },
  {
   "cell_type": "code",
   "execution_count": null,
   "id": "02e203f6-36c6-4fbd-b40e-d420a20dc22e",
   "metadata": {},
   "outputs": [],
   "source": []
  },
  {
   "cell_type": "code",
   "execution_count": null,
   "id": "8cfef51e-ad25-498e-a3e4-3c0de94f55fd",
   "metadata": {},
   "outputs": [],
   "source": []
  },
  {
   "cell_type": "markdown",
   "id": "1477e37a-4609-4548-98b8-3488f341ee15",
   "metadata": {},
   "source": [
    "## Question 10: Generate a scatter plot of `forecast` (on the x-axis) and `point_diff` (on the y-axis). Does the correlation value make sense?"
   ]
  },
  {
   "cell_type": "code",
   "execution_count": 251,
   "id": "281a4165-b824-42f4-8bae-b5e45aab10b3",
   "metadata": {},
   "outputs": [
    {
     "data": {
      "image/png": "[encoded data removed]",
      "text/plain": [
       "<Figure size 640x640 with 1 Axes>"
      ]
     },
     "metadata": {},
     "output_type": "display_data"
    }
   ],
   "source": [
    "figure(figsize = (8, 8), dpi=80)\n",
    "plt.scatter(x = nba_2010['forecast'], y = nba_2010['point_diff'])\n",
    "plt.xlabel('Forecasted Win Probability')\n",
    "plt.ylabel('Point Differential')\n",
    "plt.tight_layout()\n",
    "plt.show()\n"
   ]
  },
  {
   "cell_type": "markdown",
   "id": "aed29ef6-92ac-40c5-af4c-36b8d3cfc821",
   "metadata": {},
   "source": [
    "#### Explanation:"
   ]
  },
  {
   "cell_type": "markdown",
   "id": "8e6ad2df-7458-41c3-a69b-9d096b50047d",
   "metadata": {},
   "source": [
    "#### The Scatter Plot indicates about the relationship between `Forecasted Win Probability` and `Point Differential`: "
   ]
  },
  {
   "cell_type": "markdown",
   "id": "eb931b5b-18a7-48b1-b221-7e2806ef3488",
   "metadata": {},
   "source": [
    "#### 1) Positive Trend: both variables increases\n",
    "#### 2) Spread of Data: The points are spread out, particularly around the center of the plot. This indicates variability in the Point Differential for a given Forecasted Win Probability. While higher probabilities generally correspond to higher point differentials, there are still many instances where the point differential is negative or significantly lower than expected.\n",
    "#### 3) Outliers: There may be some outliers, particularly in the lower Forecasted Win Probability range, where the Point Differential is quite low or negative. This suggests that some teams with low win probabilities can still have large margins of defeat.\n",
    "#### 4) Distribution: The distribution of points appears to be somewhat homogenous across the range of Forecasted Win Probability, indicating that the relationship is consistent across different levels of win probability.\n",
    "#### 5) Non-linear Patterns: While the overall trend is positive, the relationship does not appear perfectly linear. This suggests that other factors might influence the Point Differential, and a more complex model might be needed to capture the relationship fully.\n",
    "#### Conclusion: the scatter plot provides a visual representation of the moderate positive correlation between the two variables, highlighting both the general trend and the variability in the data."
   ]
  },
  {
   "cell_type": "code",
   "execution_count": null,
   "id": "94dc1c4b-e71c-4de2-b48a-b70ee7cfea63",
   "metadata": {},
   "outputs": [],
   "source": []
  }
 ],
 "metadata": {
  "kernelspec": {
   "display_name": "Python 3 (ipykernel)",
   "language": "python",
   "name": "python3"
  },
  "language_info": {
   "codemirror_mode": {
    "name": "ipython",
    "version": 3
   },
   "file_extension": ".py",
   "mimetype": "text/x-python",
   "name": "python",
   "nbconvert_exporter": "python",
   "pygments_lexer": "ipython3",
   "version": "3.12.3"
  }
 },
 "nbformat": 4,
 "nbformat_minor": 5
}
